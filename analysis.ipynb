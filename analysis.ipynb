{
 "cells": [
  {
   "cell_type": "code",
   "execution_count": null,
   "outputs": [],
   "source": [
    "from watermarking.arg_classes.wm_arg_class import WmRandomArgs, WmNoneArgs, WmLMArgs\n",
    "from watermarking.utils.analysis_utils import concatenate_lists_in_nested_dicts, average_lists_in_nested_dicts"
   ],
   "metadata": {
    "collapsed": false,
    "pycharm": {
     "name": "#%%\n"
    }
   }
  },
  {
   "cell_type": "code",
   "execution_count": null,
   "outputs": [],
   "source": [
    "def fn(delta,message_model_strategy='vanilla',lm_prefix_len=10,encode_ratio=5.,\n",
    "    sample_num = 50,random_num=50,lm_top_k=-1,lm_model_name = 'same'):\n",
    "    sample_seeds = [44,45]\n",
    "    results = []\n",
    "    for sample_seed in sample_seeds:\n",
    "        args = WmLMArgs(delta=delta, sample_seed=sample_seed,sample_num=sample_num,random_permutation_num=random_num,\n",
    "            message_model_strategy=message_model_strategy,lm_prefix_len=lm_prefix_len,encode_ratio=encode_ratio,lm_top_k=lm_top_k,\n",
    "            lm_model_name = lm_model_name)\n",
    "        results.append(args.load_result())\n",
    "\n",
    "\n",
    "    all_result = concatenate_lists_in_nested_dicts(*results)\n",
    "    _ = average_lists_in_nested_dicts(all_result)\n",
    "    return _['acc'], _['analysis']['ppls']"
   ],
   "metadata": {
    "collapsed": false,
    "pycharm": {
     "name": "#%%\n"
    }
   }
  },
  {
   "cell_type": "code",
   "execution_count": null,
   "outputs": [],
   "source": [
    "points = []\n",
    "deltas = [1.0, 1.2,1.35,1.5, 1.8, 2.0, 2.5, 3.0]\n",
    "for delta in deltas:\n",
    "    points.append(fn(delta,encode_ratio=5.))"
   ],
   "metadata": {
    "collapsed": false,
    "pycharm": {
     "name": "#%%\n"
    }
   }
  },
  {
   "cell_type": "code",
   "execution_count": null,
   "outputs": [],
   "source": [
    "points"
   ],
   "metadata": {
    "collapsed": false,
    "pycharm": {
     "name": "#%%\n"
    }
   }
  }
 ],
 "metadata": {
  "kernelspec": {
   "display_name": "Python 3.10.10 ('wm': conda)",
   "language": "python",
   "name": "python3"
  },
  "language_info": {
   "codemirror_mode": {
    "name": "ipython",
    "version": 3
   },
   "file_extension": ".py",
   "mimetype": "text/x-python",
   "name": "python",
   "nbconvert_exporter": "python",
   "pygments_lexer": "ipython3",
   "version": "3.10.10"
  },
  "orig_nbformat": 4,
  "vscode": {
   "interpreter": {
    "hash": "69f52fabb15766d39c6bf90ba53c555c905cb082f5a671ecb5c4487727b3f015"
   }
  }
 },
 "nbformat": 4,
 "nbformat_minor": 2
}